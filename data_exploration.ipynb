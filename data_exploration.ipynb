{
 "cells": [
  {
   "cell_type": "code",
   "execution_count": 1,
   "metadata": {},
   "outputs": [],
   "source": [
    "import pandas as pd\n",
    "df = pd.read_csv(\"Subject02/Subject02_Aufnahme000.csv\", header = None)"
   ]
  },
  {
   "cell_type": "code",
   "execution_count": 2,
   "metadata": {},
   "outputs": [
    {
     "data": {
      "text/html": [
       "<div>\n",
       "<style scoped>\n",
       "    .dataframe tbody tr th:only-of-type {\n",
       "        vertical-align: middle;\n",
       "    }\n",
       "\n",
       "    .dataframe tbody tr th {\n",
       "        vertical-align: top;\n",
       "    }\n",
       "\n",
       "    .dataframe thead th {\n",
       "        text-align: right;\n",
       "    }\n",
       "</style>\n",
       "<table border=\"1\" class=\"dataframe\">\n",
       "  <thead>\n",
       "    <tr style=\"text-align: right;\">\n",
       "      <th></th>\n",
       "      <th>0</th>\n",
       "      <th>1</th>\n",
       "      <th>2</th>\n",
       "      <th>3</th>\n",
       "      <th>4</th>\n",
       "      <th>5</th>\n",
       "      <th>6</th>\n",
       "      <th>7</th>\n",
       "      <th>8</th>\n",
       "      <th>9</th>\n",
       "      <th>10</th>\n",
       "      <th>11</th>\n",
       "      <th>12</th>\n",
       "      <th>13</th>\n",
       "      <th>14</th>\n",
       "      <th>15</th>\n",
       "      <th>16</th>\n",
       "      <th>17</th>\n",
       "      <th>18</th>\n",
       "    </tr>\n",
       "  </thead>\n",
       "  <tbody>\n",
       "    <tr>\n",
       "      <th>0</th>\n",
       "      <td>32688</td>\n",
       "      <td>32224</td>\n",
       "      <td>32991</td>\n",
       "      <td>32609</td>\n",
       "      <td>32790</td>\n",
       "      <td>33048</td>\n",
       "      <td>37168</td>\n",
       "      <td>34610</td>\n",
       "      <td>27374</td>\n",
       "      <td>29068</td>\n",
       "      <td>29264</td>\n",
       "      <td>28408</td>\n",
       "      <td>31784</td>\n",
       "      <td>28133</td>\n",
       "      <td>29295</td>\n",
       "      <td>29244</td>\n",
       "      <td>33216</td>\n",
       "      <td>37140</td>\n",
       "      <td>34736</td>\n",
       "    </tr>\n",
       "    <tr>\n",
       "      <th>1</th>\n",
       "      <td>32744</td>\n",
       "      <td>32571</td>\n",
       "      <td>32935</td>\n",
       "      <td>32279</td>\n",
       "      <td>32863</td>\n",
       "      <td>33048</td>\n",
       "      <td>37168</td>\n",
       "      <td>34610</td>\n",
       "      <td>27374</td>\n",
       "      <td>29068</td>\n",
       "      <td>29264</td>\n",
       "      <td>28408</td>\n",
       "      <td>31784</td>\n",
       "      <td>28133</td>\n",
       "      <td>29295</td>\n",
       "      <td>29244</td>\n",
       "      <td>33216</td>\n",
       "      <td>37140</td>\n",
       "      <td>34736</td>\n",
       "    </tr>\n",
       "    <tr>\n",
       "      <th>2</th>\n",
       "      <td>32788</td>\n",
       "      <td>32934</td>\n",
       "      <td>32767</td>\n",
       "      <td>32624</td>\n",
       "      <td>32899</td>\n",
       "      <td>33048</td>\n",
       "      <td>37168</td>\n",
       "      <td>34610</td>\n",
       "      <td>27374</td>\n",
       "      <td>29068</td>\n",
       "      <td>29264</td>\n",
       "      <td>28408</td>\n",
       "      <td>31784</td>\n",
       "      <td>28133</td>\n",
       "      <td>29295</td>\n",
       "      <td>29244</td>\n",
       "      <td>33216</td>\n",
       "      <td>37140</td>\n",
       "      <td>34736</td>\n",
       "    </tr>\n",
       "    <tr>\n",
       "      <th>3</th>\n",
       "      <td>32828</td>\n",
       "      <td>33202</td>\n",
       "      <td>32587</td>\n",
       "      <td>32377</td>\n",
       "      <td>32783</td>\n",
       "      <td>33048</td>\n",
       "      <td>37168</td>\n",
       "      <td>34610</td>\n",
       "      <td>27374</td>\n",
       "      <td>29068</td>\n",
       "      <td>29264</td>\n",
       "      <td>28408</td>\n",
       "      <td>31784</td>\n",
       "      <td>28133</td>\n",
       "      <td>29295</td>\n",
       "      <td>29244</td>\n",
       "      <td>33216</td>\n",
       "      <td>37140</td>\n",
       "      <td>34736</td>\n",
       "    </tr>\n",
       "    <tr>\n",
       "      <th>4</th>\n",
       "      <td>32870</td>\n",
       "      <td>33269</td>\n",
       "      <td>32423</td>\n",
       "      <td>32954</td>\n",
       "      <td>32719</td>\n",
       "      <td>33048</td>\n",
       "      <td>37168</td>\n",
       "      <td>34610</td>\n",
       "      <td>27374</td>\n",
       "      <td>29068</td>\n",
       "      <td>29264</td>\n",
       "      <td>28408</td>\n",
       "      <td>31784</td>\n",
       "      <td>28133</td>\n",
       "      <td>29295</td>\n",
       "      <td>29244</td>\n",
       "      <td>33216</td>\n",
       "      <td>37140</td>\n",
       "      <td>34736</td>\n",
       "    </tr>\n",
       "  </tbody>\n",
       "</table>\n",
       "</div>"
      ],
      "text/plain": [
       "      0      1      2      3      4      5      6      7      8      9   \\\n",
       "0  32688  32224  32991  32609  32790  33048  37168  34610  27374  29068   \n",
       "1  32744  32571  32935  32279  32863  33048  37168  34610  27374  29068   \n",
       "2  32788  32934  32767  32624  32899  33048  37168  34610  27374  29068   \n",
       "3  32828  33202  32587  32377  32783  33048  37168  34610  27374  29068   \n",
       "4  32870  33269  32423  32954  32719  33048  37168  34610  27374  29068   \n",
       "\n",
       "      10     11     12     13     14     15     16     17     18  \n",
       "0  29264  28408  31784  28133  29295  29244  33216  37140  34736  \n",
       "1  29264  28408  31784  28133  29295  29244  33216  37140  34736  \n",
       "2  29264  28408  31784  28133  29295  29244  33216  37140  34736  \n",
       "3  29264  28408  31784  28133  29295  29244  33216  37140  34736  \n",
       "4  29264  28408  31784  28133  29295  29244  33216  37140  34736  "
      ]
     },
     "execution_count": 2,
     "metadata": {},
     "output_type": "execute_result"
    }
   ],
   "source": [
    "df.head()"
   ]
  },
  {
   "cell_type": "code",
   "execution_count": 3,
   "metadata": {},
   "outputs": [
    {
     "name": "stdout",
     "output_type": "stream",
     "text": [
      "<class 'pandas.core.frame.DataFrame'>\n",
      "RangeIndex: 6159 entries, 0 to 6158\n",
      "Data columns (total 19 columns):\n",
      " #   Column  Non-Null Count  Dtype\n",
      "---  ------  --------------  -----\n",
      " 0   0       6159 non-null   int64\n",
      " 1   1       6159 non-null   int64\n",
      " 2   2       6159 non-null   int64\n",
      " 3   3       6159 non-null   int64\n",
      " 4   4       6159 non-null   int64\n",
      " 5   5       6159 non-null   int64\n",
      " 6   6       6159 non-null   int64\n",
      " 7   7       6159 non-null   int64\n",
      " 8   8       6159 non-null   int64\n",
      " 9   9       6159 non-null   int64\n",
      " 10  10      6159 non-null   int64\n",
      " 11  11      6159 non-null   int64\n",
      " 12  12      6159 non-null   int64\n",
      " 13  13      6159 non-null   int64\n",
      " 14  14      6159 non-null   int64\n",
      " 15  15      6159 non-null   int64\n",
      " 16  16      6159 non-null   int64\n",
      " 17  17      6159 non-null   int64\n",
      " 18  18      6159 non-null   int64\n",
      "dtypes: int64(19)\n",
      "memory usage: 914.4 KB\n"
     ]
    }
   ],
   "source": [
    "df.info()"
   ]
  },
  {
   "cell_type": "code",
   "execution_count": 6,
   "metadata": {},
   "outputs": [
    {
     "data": {
      "text/plain": [
       "curve-left-spin-Rfirst     320\n",
       "curve-right-spin-Lfirst    301\n",
       "v-cut-left-Lfirst          300\n",
       "run                        300\n",
       "v-cut-right-Lfirst         300\n",
       "walk                       300\n",
       "curve-right-spin-Rfirst    300\n",
       "curve-left-step            299\n",
       "curve-right-step           295\n",
       "sit-to-stand               289\n",
       "sit                        289\n",
       "stand-to-sit               289\n",
       "stand                      289\n",
       "lateral-shuffle-left       282\n",
       "v-cut-left-Rfirst          280\n",
       "curve-left-spin-Lfirst     280\n",
       "v-cut-right-Rfirst         280\n",
       "jump-two-leg               280\n",
       "jump-one-leg               279\n",
       "stair-down                 278\n",
       "stair-up                   278\n",
       "lateral-shuffle-right      277\n",
       "lay                         16\n",
       "Name: Label, dtype: int64"
      ]
     },
     "execution_count": 6,
     "metadata": {},
     "output_type": "execute_result"
    }
   ],
   "source": [
    "train_labels[\"Label\"].value_counts()"
   ]
  },
  {
   "cell_type": "code",
   "execution_count": 10,
   "metadata": {},
   "outputs": [
    {
     "data": {
      "text/plain": [
       "<matplotlib.axes._subplots.AxesSubplot at 0x25d66773eb8>"
      ]
     },
     "execution_count": 10,
     "metadata": {},
     "output_type": "execute_result"
    },
    {
     "data": {
      "image/png": "[encoded data removed]",
      "text/plain": [
       "<Figure size 432x288 with 1 Axes>"
      ]
     },
     "metadata": {
      "needs_background": "light"
     },
     "output_type": "display_data"
    }
   ],
   "source": [
    "#visualize data\n",
    "%matplotlib inline\n",
    "from matplotlib import pyplot as plt\n",
    "import seaborn as sns\n",
    "\n",
    "#check if we have roughly equal data for all activities\n",
    "train_labels[\"Label\"].value_counts().plot(kind=\"bar\", title=\"Number of examples by activity type\")"
   ]
  },
  {
   "cell_type": "code",
   "execution_count": 11,
   "metadata": {},
   "outputs": [
    {
     "data": {
      "text/plain": [
       "<matplotlib.axes._subplots.AxesSubplot at 0x25d66804828>"
      ]
     },
     "execution_count": 11,
     "metadata": {},
     "output_type": "execute_result"
    },
    {
     "data": {
      "image/png": "[encoded data removed]",
      "text/plain": [
       "<Figure size 432x288 with 1 Axes>"
      ]
     },
     "metadata": {
      "needs_background": "light"
     },
     "output_type": "display_data"
    }
   ],
   "source": [
    "#check if we have roughly equal data for all users as we need to make a train-validation split of 80-20 \n",
    "train_labels[\"Subject\"].value_counts().plot(kind=\"bar\", title=\"Number of examples for each user\")\n"
   ]
  },
  {
   "cell_type": "code",
   "execution_count": 19,
   "metadata": {},
   "outputs": [
    {
     "name": "stdout",
     "output_type": "stream",
     "text": [
      "(16, 3)\n"
     ]
    },
    {
     "data": {
      "text/html": [
       "<div>\n",
       "<style scoped>\n",
       "    .dataframe tbody tr th:only-of-type {\n",
       "        vertical-align: middle;\n",
       "    }\n",
       "\n",
       "    .dataframe tbody tr th {\n",
       "        vertical-align: top;\n",
       "    }\n",
       "\n",
       "    .dataframe thead th {\n",
       "        text-align: right;\n",
       "    }\n",
       "</style>\n",
       "<table border=\"1\" class=\"dataframe\">\n",
       "  <thead>\n",
       "    <tr style=\"text-align: right;\">\n",
       "      <th></th>\n",
       "      <th>Subject</th>\n",
       "      <th>Datafile</th>\n",
       "      <th>Label</th>\n",
       "    </tr>\n",
       "  </thead>\n",
       "  <tbody>\n",
       "    <tr>\n",
       "      <th>1782</th>\n",
       "      <td>Subject06</td>\n",
       "      <td>Subject06/Subject06_Aufnahme026.csv</td>\n",
       "      <td>lay</td>\n",
       "    </tr>\n",
       "    <tr>\n",
       "      <th>1806</th>\n",
       "      <td>Subject06</td>\n",
       "      <td>Subject06/Subject06_Aufnahme050.csv</td>\n",
       "      <td>lay</td>\n",
       "    </tr>\n",
       "    <tr>\n",
       "      <th>1822</th>\n",
       "      <td>Subject06</td>\n",
       "      <td>Subject06/Subject06_Aufnahme066.csv</td>\n",
       "      <td>lay</td>\n",
       "    </tr>\n",
       "    <tr>\n",
       "      <th>1829</th>\n",
       "      <td>Subject06</td>\n",
       "      <td>Subject06/Subject06_Aufnahme073.csv</td>\n",
       "      <td>lay</td>\n",
       "    </tr>\n",
       "    <tr>\n",
       "      <th>1953</th>\n",
       "      <td>Subject06</td>\n",
       "      <td>Subject06/Subject06_Aufnahme197.csv</td>\n",
       "      <td>lay</td>\n",
       "    </tr>\n",
       "    <tr>\n",
       "      <th>1963</th>\n",
       "      <td>Subject06</td>\n",
       "      <td>Subject06/Subject06_Aufnahme207.csv</td>\n",
       "      <td>lay</td>\n",
       "    </tr>\n",
       "    <tr>\n",
       "      <th>1969</th>\n",
       "      <td>Subject06</td>\n",
       "      <td>Subject06/Subject06_Aufnahme213.csv</td>\n",
       "      <td>lay</td>\n",
       "    </tr>\n",
       "    <tr>\n",
       "      <th>1979</th>\n",
       "      <td>Subject06</td>\n",
       "      <td>Subject06/Subject06_Aufnahme223.csv</td>\n",
       "      <td>lay</td>\n",
       "    </tr>\n",
       "    <tr>\n",
       "      <th>1985</th>\n",
       "      <td>Subject06</td>\n",
       "      <td>Subject06/Subject06_Aufnahme229.csv</td>\n",
       "      <td>lay</td>\n",
       "    </tr>\n",
       "    <tr>\n",
       "      <th>2080</th>\n",
       "      <td>Subject06</td>\n",
       "      <td>Subject06/Subject06_Aufnahme324.csv</td>\n",
       "      <td>lay</td>\n",
       "    </tr>\n",
       "    <tr>\n",
       "      <th>2088</th>\n",
       "      <td>Subject06</td>\n",
       "      <td>Subject06/Subject06_Aufnahme332.csv</td>\n",
       "      <td>lay</td>\n",
       "    </tr>\n",
       "    <tr>\n",
       "      <th>2091</th>\n",
       "      <td>Subject06</td>\n",
       "      <td>Subject06/Subject06_Aufnahme335.csv</td>\n",
       "      <td>lay</td>\n",
       "    </tr>\n",
       "    <tr>\n",
       "      <th>2106</th>\n",
       "      <td>Subject06</td>\n",
       "      <td>Subject06/Subject06_Aufnahme350.csv</td>\n",
       "      <td>lay</td>\n",
       "    </tr>\n",
       "    <tr>\n",
       "      <th>2108</th>\n",
       "      <td>Subject06</td>\n",
       "      <td>Subject06/Subject06_Aufnahme352.csv</td>\n",
       "      <td>lay</td>\n",
       "    </tr>\n",
       "    <tr>\n",
       "      <th>2128</th>\n",
       "      <td>Subject06</td>\n",
       "      <td>Subject06/Subject06_Aufnahme372.csv</td>\n",
       "      <td>lay</td>\n",
       "    </tr>\n",
       "    <tr>\n",
       "      <th>2134</th>\n",
       "      <td>Subject06</td>\n",
       "      <td>Subject06/Subject06_Aufnahme378.csv</td>\n",
       "      <td>lay</td>\n",
       "    </tr>\n",
       "  </tbody>\n",
       "</table>\n",
       "</div>"
      ],
      "text/plain": [
       "        Subject                             Datafile Label\n",
       "1782  Subject06  Subject06/Subject06_Aufnahme026.csv   lay\n",
       "1806  Subject06  Subject06/Subject06_Aufnahme050.csv   lay\n",
       "1822  Subject06  Subject06/Subject06_Aufnahme066.csv   lay\n",
       "1829  Subject06  Subject06/Subject06_Aufnahme073.csv   lay\n",
       "1953  Subject06  Subject06/Subject06_Aufnahme197.csv   lay\n",
       "1963  Subject06  Subject06/Subject06_Aufnahme207.csv   lay\n",
       "1969  Subject06  Subject06/Subject06_Aufnahme213.csv   lay\n",
       "1979  Subject06  Subject06/Subject06_Aufnahme223.csv   lay\n",
       "1985  Subject06  Subject06/Subject06_Aufnahme229.csv   lay\n",
       "2080  Subject06  Subject06/Subject06_Aufnahme324.csv   lay\n",
       "2088  Subject06  Subject06/Subject06_Aufnahme332.csv   lay\n",
       "2091  Subject06  Subject06/Subject06_Aufnahme335.csv   lay\n",
       "2106  Subject06  Subject06/Subject06_Aufnahme350.csv   lay\n",
       "2108  Subject06  Subject06/Subject06_Aufnahme352.csv   lay\n",
       "2128  Subject06  Subject06/Subject06_Aufnahme372.csv   lay\n",
       "2134  Subject06  Subject06/Subject06_Aufnahme378.csv   lay"
      ]
     },
     "execution_count": 19,
     "metadata": {},
     "output_type": "execute_result"
    }
   ],
   "source": [
    "#We observed that a mislabelled activity \"lay\" is also included in our dataset. We must get rid of those rows as they don't\n",
    "#contribute to our project\n",
    "train_labels_lay = train_labels[train_labels[\"Label\"]==\"lay\"]\n",
    "\n",
    "print(train_labels_lay.shape)\n",
    "train_labels_lay"
   ]
  },
  {
   "cell_type": "code",
   "execution_count": 21,
   "metadata": {},
   "outputs": [
    {
     "data": {
      "text/plain": [
       "Int64Index([1782, 1806, 1822, 1829, 1953, 1963, 1969, 1979, 1985, 2080, 2088,\n",
       "            2091, 2106, 2108, 2128, 2134],\n",
       "           dtype='int64')"
      ]
     },
     "execution_count": 21,
     "metadata": {},
     "output_type": "execute_result"
    }
   ],
   "source": [
    "train_labels_lay.index"
   ]
  },
  {
   "cell_type": "code",
   "execution_count": 24,
   "metadata": {},
   "outputs": [],
   "source": [
    "train_labels = train_labels.drop(train_labels_lay.index, axis=0)"
   ]
  },
  {
   "cell_type": "code",
   "execution_count": 25,
   "metadata": {},
   "outputs": [
    {
     "data": {
      "text/plain": [
       "<matplotlib.axes._subplots.AxesSubplot at 0x25d66bf5630>"
      ]
     },
     "execution_count": 25,
     "metadata": {},
     "output_type": "execute_result"
    },
    {
     "data": {
      "image/png": "[encoded data removed]",
      "text/plain": [
       "<Figure size 432x288 with 1 Axes>"
      ]
     },
     "metadata": {
      "needs_background": "light"
     },
     "output_type": "display_data"
    }
   ],
   "source": [
    "#check if we have roughly equal data for all activities\n",
    "train_labels[\"Label\"].value_counts().plot(kind=\"bar\", title=\"Number of examples by activity type\")"
   ]
  },
  {
   "cell_type": "code",
   "execution_count": 27,
   "metadata": {},
   "outputs": [
    {
     "data": {
      "text/html": [
       "<div>\n",
       "<style scoped>\n",
       "    .dataframe tbody tr th:only-of-type {\n",
       "        vertical-align: middle;\n",
       "    }\n",
       "\n",
       "    .dataframe tbody tr th {\n",
       "        vertical-align: top;\n",
       "    }\n",
       "\n",
       "    .dataframe thead th {\n",
       "        text-align: right;\n",
       "    }\n",
       "</style>\n",
       "<table border=\"1\" class=\"dataframe\">\n",
       "  <thead>\n",
       "    <tr style=\"text-align: right;\">\n",
       "      <th></th>\n",
       "      <th></th>\n",
       "      <th>Datafile</th>\n",
       "    </tr>\n",
       "    <tr>\n",
       "      <th>Subject</th>\n",
       "      <th>Label</th>\n",
       "      <th></th>\n",
       "    </tr>\n",
       "  </thead>\n",
       "  <tbody>\n",
       "    <tr>\n",
       "      <th rowspan=\"5\" valign=\"top\">Subject02</th>\n",
       "      <th>curve-left-spin-Lfirst</th>\n",
       "      <td>20</td>\n",
       "    </tr>\n",
       "    <tr>\n",
       "      <th>curve-left-spin-Rfirst</th>\n",
       "      <td>20</td>\n",
       "    </tr>\n",
       "    <tr>\n",
       "      <th>curve-left-step</th>\n",
       "      <td>20</td>\n",
       "    </tr>\n",
       "    <tr>\n",
       "      <th>curve-right-spin-Lfirst</th>\n",
       "      <td>20</td>\n",
       "    </tr>\n",
       "    <tr>\n",
       "      <th>curve-right-spin-Rfirst</th>\n",
       "      <td>20</td>\n",
       "    </tr>\n",
       "    <tr>\n",
       "      <th>...</th>\n",
       "      <th>...</th>\n",
       "      <td>...</td>\n",
       "    </tr>\n",
       "    <tr>\n",
       "      <th rowspan=\"5\" valign=\"top\">Subject19</th>\n",
       "      <th>v-cut-left-Lfirst</th>\n",
       "      <td>20</td>\n",
       "    </tr>\n",
       "    <tr>\n",
       "      <th>v-cut-left-Rfirst</th>\n",
       "      <td>20</td>\n",
       "    </tr>\n",
       "    <tr>\n",
       "      <th>v-cut-right-Lfirst</th>\n",
       "      <td>20</td>\n",
       "    </tr>\n",
       "    <tr>\n",
       "      <th>v-cut-right-Rfirst</th>\n",
       "      <td>20</td>\n",
       "    </tr>\n",
       "    <tr>\n",
       "      <th>walk</th>\n",
       "      <td>20</td>\n",
       "    </tr>\n",
       "  </tbody>\n",
       "</table>\n",
       "<p>325 rows × 1 columns</p>\n",
       "</div>"
      ],
      "text/plain": [
       "                                   Datafile\n",
       "Subject   Label                            \n",
       "Subject02 curve-left-spin-Lfirst         20\n",
       "          curve-left-spin-Rfirst         20\n",
       "          curve-left-step                20\n",
       "          curve-right-spin-Lfirst        20\n",
       "          curve-right-spin-Rfirst        20\n",
       "...                                     ...\n",
       "Subject19 v-cut-left-Lfirst              20\n",
       "          v-cut-left-Rfirst              20\n",
       "          v-cut-right-Lfirst             20\n",
       "          v-cut-right-Rfirst             20\n",
       "          walk                           20\n",
       "\n",
       "[325 rows x 1 columns]"
      ]
     },
     "execution_count": 27,
     "metadata": {},
     "output_type": "execute_result"
    }
   ],
   "source": [
    "train_labels.groupby([\"Subject\",\"Label\"]).count()"
   ]
  },
  {
   "cell_type": "code",
   "execution_count": 32,
   "metadata": {},
   "outputs": [
    {
     "data": {
      "text/plain": [
       "<matplotlib.axes._subplots.AxesSubplot at 0x25d674e9f60>"
      ]
     },
     "execution_count": 32,
     "metadata": {},
     "output_type": "execute_result"
    },
    {
     "data": {
      "image/png": "[encoded data removed]",
      "text/plain": [
       "<Figure size 1440x1440 with 1 Axes>"
      ]
     },
     "metadata": {
      "needs_background": "light"
     },
     "output_type": "display_data"
    }
   ],
   "source": [
    "#visualizing\n",
    "import seaborn as sns\n",
    "\n",
    "plt.figure(figsize=(20, 20))\n",
    "\n",
    "sns.countplot(data=train_labels, x=\"Subject\", hue=\"Label\")"
   ]
  },
  {
   "cell_type": "raw",
   "metadata": {},
   "source": [
    "TRAIN-TEST SPLIT"
   ]
  },
  {
   "cell_type": "code",
   "execution_count": 36,
   "metadata": {},
   "outputs": [],
   "source": [
    "#lets make test and train split. Since Subject 6 has unevenly distributed labels, \n",
    "#lets put it in test set and the rest in training set.\n",
    "\n",
    "test_subjects = [\"Subject16\", \"Subject18\", \"Subject19\"]\n",
    "\n",
    "y_train = train_labels[~train_labels.Subject.isin(test_subjects)]"
   ]
  },
  {
   "cell_type": "code",
   "execution_count": 38,
   "metadata": {},
   "outputs": [
    {
     "data": {
      "text/plain": [
       "Subject07    440\n",
       "Subject17    440\n",
       "Subject12    440\n",
       "Subject02    440\n",
       "Subject03    440\n",
       "Subject13    440\n",
       "Subject09    439\n",
       "Subject06    439\n",
       "Subject04    438\n",
       "Subject05    438\n",
       "Subject11    432\n",
       "Subject08    428\n",
       "Name: Subject, dtype: int64"
      ]
     },
     "execution_count": 38,
     "metadata": {},
     "output_type": "execute_result"
    }
   ],
   "source": [
    "y_train[\"Subject\"].value_counts()"
   ]
  },
  {
   "cell_type": "code",
   "execution_count": null,
   "metadata": {},
   "outputs": [],
   "source": [
    "# load files\n",
    "\n",
    "def load_subject_files(subject):\n",
    "    for i in range(440):\n",
    "        num = f\"{i:03d}\"\n",
    "        file = subject+\"/\"+subject+\"_Aufnahme\"+num+\".csv\"\n",
    "        \n",
    "        df = pd.read_csv(file)\n",
    "        \n",
    "        extract_time_features()\n",
    "         "
   ]
  },
  {
   "cell_type": "code",
   "execution_count": 51,
   "metadata": {},
   "outputs": [
    {
     "name": "stdout",
     "output_type": "stream",
     "text": [
      "subject02/subject02_Aufnahme000.csv\n",
      "subject02/subject02_Aufnahme049.csv\n",
      "subject02/subject02_Aufnahme098.csv\n",
      "subject02/subject02_Aufnahme147.csv\n",
      "subject02/subject02_Aufnahme196.csv\n",
      "subject02/subject02_Aufnahme245.csv\n",
      "subject02/subject02_Aufnahme294.csv\n",
      "subject02/subject02_Aufnahme343.csv\n",
      "subject02/subject02_Aufnahme392.csv\n"
     ]
    }
   ],
   "source": [
    "for i in range(0,440,49):\n",
    "    num = f\"{i:03d}\"\n",
    "    file = \"subject02\"+\"/\"+\"subject02\"+\"_Aufnahme\"+num+\".csv\"\n",
    "    print(file)"
   ]
  },
  {
   "cell_type": "code",
   "execution_count": null,
   "metadata": {},
   "outputs": [],
   "source": []
  }
 ],
 "metadata": {
  "kernelspec": {
   "display_name": "Python 3",
   "language": "python",
   "name": "python3"
  },
  "language_info": {
   "codemirror_mode": {
    "name": "ipython",
    "version": 3
   },
   "file_extension": ".py",
   "mimetype": "text/x-python",
   "name": "python",
   "nbconvert_exporter": "python",
   "pygments_lexer": "ipython3",
   "version": "3.6.10"
  }
 },
 "nbformat": 4,
 "nbformat_minor": 4
}
