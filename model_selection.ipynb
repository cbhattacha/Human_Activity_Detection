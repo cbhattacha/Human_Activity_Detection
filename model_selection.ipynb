{
 "cells": [
  {
   "cell_type": "code",
   "execution_count": 80,
   "metadata": {},
   "outputs": [],
   "source": [
    "from sklearn.preprocessing import LabelEncoder\n",
    "from sklearn.ensemble import RandomForestClassifier\n",
    "from sklearn.metrics import accuracy_score, f1_score,  plot_confusion_matrix\n",
    "from sklearn.model_selection import cross_val_score, GridSearchCV\n",
    "import pandas as pd\n",
    "import numpy as np\n",
    "import matplotlib.pyplot as plt\n",
    "%matplotlib inline"
   ]
  },
  {
   "cell_type": "code",
   "execution_count": 90,
   "metadata": {},
   "outputs": [],
   "source": [
    "# Run Random forest model and output accuracy\n",
    "\n",
    "def create_train_test_df(data_file, label_file):\n",
    "    traintest_labels = pd.read_csv(label_file)\n",
    "    traintest_labels[\"Datafile\"] = traintest_labels[\"Datafile\"].str.slice(10,)\n",
    "    \n",
    "    #import extracted_features file\n",
    "    traintest_df = pd.read_csv(data_file)\n",
    "    \n",
    "    # merge with training/test labels to create final df\n",
    "    final_df = pd.merge(traintest_df, traintest_labels, left_on='id', right_on = 'Datafile', how = 'inner')\n",
    "    final_df = final_df[final_df['Label'] != 'lay']\n",
    "    \n",
    "    #remove Nan values if any\n",
    "    final_df.replace(np.nan, 0.0, inplace = True)\n",
    "    \n",
    "    final_df.drop(['Datafile', 'id'], axis=1, inplace = True)\n",
    "    \n",
    "    return final_df\n",
    "\n",
    "\n",
    "\n",
    "def create_train_test_sets(train_df, test_df):\n",
    "    \n",
    "    #convert label to numeric data for ML algos\n",
    "    label_encoder = LabelEncoder()\n",
    "    train_df['Label'] = label_encoder.fit_transform(train_df['Label'])\n",
    "    #Encode Subject for leave one group out cross validation\n",
    "    train_df['Subject'] = label_encoder.fit_transform(train_df['Subject'])\n",
    "    \n",
    "    test_df['Label'] = label_encoder.fit_transform(test_df['Label'])\n",
    "    \n",
    "    #create train and test sets\n",
    "    X_train = train_df.drop(['Label'], axis=1)\n",
    "    y_train = train_df['Label']\n",
    "    \n",
    "    X_test = test_df.drop(['Label'], axis=1)\n",
    "    y_test = test_df['Label']\n",
    "    \n",
    "    return X_train, y_train, X_test, y_test\n",
    "\n",
    "\n",
    "def rf_cls(X_train, y_train, X_test, y_test):\n",
    "    \n",
    "    # Create the model with best hyperparameters trees\n",
    "    model = RandomForestClassifier(n_estimators = 1000, random_state = 4, n_jobs = -1, oob_score=True, max_depth=40)\n",
    "    \n",
    "    #fit the model on train data\n",
    "    model.fit(X_train, y_train)\n",
    "    \n",
    "    #print Out-Of-Bag Score of model\n",
    "    print(\"OOB Score = \", model.oob_score_)\n",
    "    \n",
    "    y_predicted = model.predict(X_test)\n",
    "    \n",
    "    #print test set accuracy of model\n",
    "    test_accuracy = accuracy_score(y_test, y_predicted)\n",
    "    print(\"Test Accuracy = \", test_accuracy)\n",
    "    \n",
    "    #print f1 score\n",
    "    test_f1 = f1_score(y_test, y_predicted, average='weighted')\n",
    "    print(\"f1 score = \",test_f1)\n",
    "    \n",
    "    return model \n",
    "    \n",
    "    "
   ]
  },
  {
   "cell_type": "code",
   "execution_count": 3,
   "metadata": {},
   "outputs": [],
   "source": [
    "train_df = create_train_test_df(\"centered_extracted_feature.csv\", \"train.csv\")\n",
    "test_df = create_train_test_df(\"test_centered_extracted_feature.csv\", \"challenge_labels.csv\")\n"
   ]
  },
  {
   "cell_type": "code",
   "execution_count": 4,
   "metadata": {},
   "outputs": [],
   "source": [
    "test_df = test_df.drop([\"Subject\"],axis=1)"
   ]
  },
  {
   "cell_type": "code",
   "execution_count": 5,
   "metadata": {},
   "outputs": [],
   "source": [
    "X_train, y_train, X_test, y_test = create_train_test_sets(train_df, test_df)"
   ]
  },
  {
   "cell_type": "markdown",
   "metadata": {},
   "source": [
    "# Random Forest"
   ]
  },
  {
   "cell_type": "markdown",
   "metadata": {},
   "source": [
    "## Defining custom cross validation fold: To do leave one subject out CV"
   ]
  },
  {
   "cell_type": "markdown",
   "metadata": {},
   "source": [
    "Index disturbed due to dropping some rows of the 'Lay' label in train_df. Reset index. Apart from being a good practice, it is required for custom_cv function."
   ]
  },
  {
   "cell_type": "code",
   "execution_count": 6,
   "metadata": {},
   "outputs": [],
   "source": [
    "#reset index\n",
    "X_train.reset_index(drop=True,inplace=True)"
   ]
  },
  {
   "cell_type": "code",
   "execution_count": 7,
   "metadata": {},
   "outputs": [
    {
     "data": {
      "text/html": [
       "<div>\n",
       "<style scoped>\n",
       "    .dataframe tbody tr th:only-of-type {\n",
       "        vertical-align: middle;\n",
       "    }\n",
       "\n",
       "    .dataframe tbody tr th {\n",
       "        vertical-align: top;\n",
       "    }\n",
       "\n",
       "    .dataframe thead th {\n",
       "        text-align: right;\n",
       "    }\n",
       "</style>\n",
       "<table border=\"1\" class=\"dataframe\">\n",
       "  <thead>\n",
       "    <tr style=\"text-align: right;\">\n",
       "      <th></th>\n",
       "      <th>n_rows</th>\n",
       "      <th>emg1_mean</th>\n",
       "      <th>emg2_mean</th>\n",
       "      <th>emg3_mean</th>\n",
       "      <th>emg4_mean</th>\n",
       "      <th>airborne_mean</th>\n",
       "      <th>acc_u_x_mean</th>\n",
       "      <th>acc_u_y_mean</th>\n",
       "      <th>acc_u_z_mean</th>\n",
       "      <th>gonio_x_mean</th>\n",
       "      <th>...</th>\n",
       "      <th>cor_gyro_u_y_gyro_l_x</th>\n",
       "      <th>cor_gyro_u_y_gyro_l_y</th>\n",
       "      <th>cor_gyro_u_y_gyro_l_z</th>\n",
       "      <th>cor_gyro_u_z_gyro_l_x</th>\n",
       "      <th>cor_gyro_u_z_gyro_l_y</th>\n",
       "      <th>cor_gyro_u_z_gyro_l_z</th>\n",
       "      <th>cor_gyro_l_x_gyro_l_y</th>\n",
       "      <th>cor_gyro_l_x_gyro_l_z</th>\n",
       "      <th>cor_gyro_l_y_gyro_l_z</th>\n",
       "      <th>Subject</th>\n",
       "    </tr>\n",
       "  </thead>\n",
       "  <tbody>\n",
       "    <tr>\n",
       "      <th>0</th>\n",
       "      <td>6159</td>\n",
       "      <td>6.160760e-13</td>\n",
       "      <td>-8.192688e-13</td>\n",
       "      <td>1.712372e-12</td>\n",
       "      <td>3.079789e-12</td>\n",
       "      <td>-80.130261</td>\n",
       "      <td>0.000918</td>\n",
       "      <td>-0.011577</td>\n",
       "      <td>0.036259</td>\n",
       "      <td>0.279940</td>\n",
       "      <td>...</td>\n",
       "      <td>0.134631</td>\n",
       "      <td>0.194200</td>\n",
       "      <td>-0.428072</td>\n",
       "      <td>0.057640</td>\n",
       "      <td>0.346174</td>\n",
       "      <td>-0.358900</td>\n",
       "      <td>0.556022</td>\n",
       "      <td>-0.389356</td>\n",
       "      <td>-0.676975</td>\n",
       "      <td>0</td>\n",
       "    </tr>\n",
       "    <tr>\n",
       "      <th>1</th>\n",
       "      <td>5569</td>\n",
       "      <td>5.003936e-13</td>\n",
       "      <td>-1.698464e-14</td>\n",
       "      <td>1.599822e-12</td>\n",
       "      <td>-2.598650e-12</td>\n",
       "      <td>58.593528</td>\n",
       "      <td>-0.004612</td>\n",
       "      <td>-0.041745</td>\n",
       "      <td>0.087003</td>\n",
       "      <td>0.346214</td>\n",
       "      <td>...</td>\n",
       "      <td>-0.114521</td>\n",
       "      <td>0.297999</td>\n",
       "      <td>-0.471105</td>\n",
       "      <td>-0.218864</td>\n",
       "      <td>0.375842</td>\n",
       "      <td>-0.263502</td>\n",
       "      <td>0.151976</td>\n",
       "      <td>-0.250811</td>\n",
       "      <td>-0.705148</td>\n",
       "      <td>0</td>\n",
       "    </tr>\n",
       "    <tr>\n",
       "      <th>2</th>\n",
       "      <td>2589</td>\n",
       "      <td>-7.082044e-13</td>\n",
       "      <td>1.357392e-12</td>\n",
       "      <td>-5.114810e-13</td>\n",
       "      <td>-2.962093e-12</td>\n",
       "      <td>-1.125703</td>\n",
       "      <td>-0.149537</td>\n",
       "      <td>-0.666562</td>\n",
       "      <td>-0.781337</td>\n",
       "      <td>-2.090118</td>\n",
       "      <td>...</td>\n",
       "      <td>-0.186987</td>\n",
       "      <td>-0.449846</td>\n",
       "      <td>0.387218</td>\n",
       "      <td>-0.304047</td>\n",
       "      <td>-0.050325</td>\n",
       "      <td>0.114259</td>\n",
       "      <td>0.145795</td>\n",
       "      <td>-0.296867</td>\n",
       "      <td>-0.862323</td>\n",
       "      <td>0</td>\n",
       "    </tr>\n",
       "    <tr>\n",
       "      <th>3</th>\n",
       "      <td>2239</td>\n",
       "      <td>1.277111e-12</td>\n",
       "      <td>-1.667068e-12</td>\n",
       "      <td>-6.613030e-13</td>\n",
       "      <td>3.564862e-12</td>\n",
       "      <td>20.636128</td>\n",
       "      <td>0.001320</td>\n",
       "      <td>-0.090360</td>\n",
       "      <td>0.348862</td>\n",
       "      <td>0.220247</td>\n",
       "      <td>...</td>\n",
       "      <td>-0.571398</td>\n",
       "      <td>0.340935</td>\n",
       "      <td>-0.458818</td>\n",
       "      <td>0.208974</td>\n",
       "      <td>-0.428573</td>\n",
       "      <td>0.372661</td>\n",
       "      <td>-0.447074</td>\n",
       "      <td>0.584770</td>\n",
       "      <td>-0.750477</td>\n",
       "      <td>0</td>\n",
       "    </tr>\n",
       "    <tr>\n",
       "      <th>4</th>\n",
       "      <td>1219</td>\n",
       "      <td>3.849871e-13</td>\n",
       "      <td>1.760794e-13</td>\n",
       "      <td>-7.162551e-14</td>\n",
       "      <td>2.369610e-12</td>\n",
       "      <td>-109.767345</td>\n",
       "      <td>-0.244940</td>\n",
       "      <td>-0.448964</td>\n",
       "      <td>-0.929807</td>\n",
       "      <td>0.196634</td>\n",
       "      <td>...</td>\n",
       "      <td>-0.251829</td>\n",
       "      <td>0.126705</td>\n",
       "      <td>0.431274</td>\n",
       "      <td>-0.391765</td>\n",
       "      <td>-0.007812</td>\n",
       "      <td>0.189183</td>\n",
       "      <td>0.039516</td>\n",
       "      <td>-0.425444</td>\n",
       "      <td>-0.077235</td>\n",
       "      <td>0</td>\n",
       "    </tr>\n",
       "    <tr>\n",
       "      <th>...</th>\n",
       "      <td>...</td>\n",
       "      <td>...</td>\n",
       "      <td>...</td>\n",
       "      <td>...</td>\n",
       "      <td>...</td>\n",
       "      <td>...</td>\n",
       "      <td>...</td>\n",
       "      <td>...</td>\n",
       "      <td>...</td>\n",
       "      <td>...</td>\n",
       "      <td>...</td>\n",
       "      <td>...</td>\n",
       "      <td>...</td>\n",
       "      <td>...</td>\n",
       "      <td>...</td>\n",
       "      <td>...</td>\n",
       "      <td>...</td>\n",
       "      <td>...</td>\n",
       "      <td>...</td>\n",
       "      <td>...</td>\n",
       "      <td>...</td>\n",
       "    </tr>\n",
       "    <tr>\n",
       "      <th>6380</th>\n",
       "      <td>1599</td>\n",
       "      <td>-8.054062e-13</td>\n",
       "      <td>1.701819e-12</td>\n",
       "      <td>1.183083e-13</td>\n",
       "      <td>1.720020e-12</td>\n",
       "      <td>-118.918922</td>\n",
       "      <td>0.110925</td>\n",
       "      <td>-0.170200</td>\n",
       "      <td>0.523128</td>\n",
       "      <td>-0.286574</td>\n",
       "      <td>...</td>\n",
       "      <td>-0.511573</td>\n",
       "      <td>0.122567</td>\n",
       "      <td>0.081251</td>\n",
       "      <td>-0.698863</td>\n",
       "      <td>0.211058</td>\n",
       "      <td>0.433719</td>\n",
       "      <td>-0.652424</td>\n",
       "      <td>-0.614666</td>\n",
       "      <td>0.308575</td>\n",
       "      <td>11</td>\n",
       "    </tr>\n",
       "    <tr>\n",
       "      <th>6381</th>\n",
       "      <td>1119</td>\n",
       "      <td>-1.791355e-12</td>\n",
       "      <td>2.444826e-12</td>\n",
       "      <td>-3.511186e-12</td>\n",
       "      <td>-3.452666e-12</td>\n",
       "      <td>9.662039</td>\n",
       "      <td>-0.045002</td>\n",
       "      <td>0.003838</td>\n",
       "      <td>-0.000375</td>\n",
       "      <td>0.093052</td>\n",
       "      <td>...</td>\n",
       "      <td>0.107386</td>\n",
       "      <td>-0.083672</td>\n",
       "      <td>-0.171989</td>\n",
       "      <td>-0.148011</td>\n",
       "      <td>-0.152530</td>\n",
       "      <td>0.159097</td>\n",
       "      <td>0.464216</td>\n",
       "      <td>0.003840</td>\n",
       "      <td>-0.041292</td>\n",
       "      <td>11</td>\n",
       "    </tr>\n",
       "    <tr>\n",
       "      <th>6382</th>\n",
       "      <td>2069</td>\n",
       "      <td>6.013479e-13</td>\n",
       "      <td>-7.806972e-13</td>\n",
       "      <td>-3.632704e-12</td>\n",
       "      <td>-2.626941e-12</td>\n",
       "      <td>-47.835111</td>\n",
       "      <td>-0.188779</td>\n",
       "      <td>0.208082</td>\n",
       "      <td>-0.375240</td>\n",
       "      <td>-0.450284</td>\n",
       "      <td>...</td>\n",
       "      <td>0.702536</td>\n",
       "      <td>0.304307</td>\n",
       "      <td>-0.240047</td>\n",
       "      <td>-0.653474</td>\n",
       "      <td>-0.499875</td>\n",
       "      <td>0.539899</td>\n",
       "      <td>0.433343</td>\n",
       "      <td>-0.567675</td>\n",
       "      <td>-0.083128</td>\n",
       "      <td>11</td>\n",
       "    </tr>\n",
       "    <tr>\n",
       "      <th>6383</th>\n",
       "      <td>3479</td>\n",
       "      <td>-3.965282e-12</td>\n",
       "      <td>-8.010037e-13</td>\n",
       "      <td>1.717034e-12</td>\n",
       "      <td>2.731360e-12</td>\n",
       "      <td>397.977001</td>\n",
       "      <td>-0.817340</td>\n",
       "      <td>0.689074</td>\n",
       "      <td>0.489756</td>\n",
       "      <td>0.067844</td>\n",
       "      <td>...</td>\n",
       "      <td>-0.640602</td>\n",
       "      <td>0.432366</td>\n",
       "      <td>0.136271</td>\n",
       "      <td>-0.460189</td>\n",
       "      <td>0.070236</td>\n",
       "      <td>0.259650</td>\n",
       "      <td>-0.722429</td>\n",
       "      <td>-0.586016</td>\n",
       "      <td>0.375518</td>\n",
       "      <td>11</td>\n",
       "    </tr>\n",
       "    <tr>\n",
       "      <th>6384</th>\n",
       "      <td>1179</td>\n",
       "      <td>1.234259e-13</td>\n",
       "      <td>-6.047870e-13</td>\n",
       "      <td>-2.554916e-12</td>\n",
       "      <td>1.184889e-12</td>\n",
       "      <td>-752.532942</td>\n",
       "      <td>0.161110</td>\n",
       "      <td>-0.073705</td>\n",
       "      <td>0.331177</td>\n",
       "      <td>-0.696554</td>\n",
       "      <td>...</td>\n",
       "      <td>-0.434081</td>\n",
       "      <td>0.055084</td>\n",
       "      <td>0.287960</td>\n",
       "      <td>-0.774483</td>\n",
       "      <td>0.321215</td>\n",
       "      <td>0.718639</td>\n",
       "      <td>-0.682709</td>\n",
       "      <td>-0.804659</td>\n",
       "      <td>0.555954</td>\n",
       "      <td>11</td>\n",
       "    </tr>\n",
       "  </tbody>\n",
       "</table>\n",
       "<p>6385 rows × 284 columns</p>\n",
       "</div>"
      ],
      "text/plain": [
       "      n_rows     emg1_mean     emg2_mean     emg3_mean     emg4_mean  \\\n",
       "0       6159  6.160760e-13 -8.192688e-13  1.712372e-12  3.079789e-12   \n",
       "1       5569  5.003936e-13 -1.698464e-14  1.599822e-12 -2.598650e-12   \n",
       "2       2589 -7.082044e-13  1.357392e-12 -5.114810e-13 -2.962093e-12   \n",
       "3       2239  1.277111e-12 -1.667068e-12 -6.613030e-13  3.564862e-12   \n",
       "4       1219  3.849871e-13  1.760794e-13 -7.162551e-14  2.369610e-12   \n",
       "...      ...           ...           ...           ...           ...   \n",
       "6380    1599 -8.054062e-13  1.701819e-12  1.183083e-13  1.720020e-12   \n",
       "6381    1119 -1.791355e-12  2.444826e-12 -3.511186e-12 -3.452666e-12   \n",
       "6382    2069  6.013479e-13 -7.806972e-13 -3.632704e-12 -2.626941e-12   \n",
       "6383    3479 -3.965282e-12 -8.010037e-13  1.717034e-12  2.731360e-12   \n",
       "6384    1179  1.234259e-13 -6.047870e-13 -2.554916e-12  1.184889e-12   \n",
       "\n",
       "      airborne_mean  acc_u_x_mean  acc_u_y_mean  acc_u_z_mean  gonio_x_mean  \\\n",
       "0        -80.130261      0.000918     -0.011577      0.036259      0.279940   \n",
       "1         58.593528     -0.004612     -0.041745      0.087003      0.346214   \n",
       "2         -1.125703     -0.149537     -0.666562     -0.781337     -2.090118   \n",
       "3         20.636128      0.001320     -0.090360      0.348862      0.220247   \n",
       "4       -109.767345     -0.244940     -0.448964     -0.929807      0.196634   \n",
       "...             ...           ...           ...           ...           ...   \n",
       "6380    -118.918922      0.110925     -0.170200      0.523128     -0.286574   \n",
       "6381       9.662039     -0.045002      0.003838     -0.000375      0.093052   \n",
       "6382     -47.835111     -0.188779      0.208082     -0.375240     -0.450284   \n",
       "6383     397.977001     -0.817340      0.689074      0.489756      0.067844   \n",
       "6384    -752.532942      0.161110     -0.073705      0.331177     -0.696554   \n",
       "\n",
       "      ...  cor_gyro_u_y_gyro_l_x  cor_gyro_u_y_gyro_l_y  \\\n",
       "0     ...               0.134631               0.194200   \n",
       "1     ...              -0.114521               0.297999   \n",
       "2     ...              -0.186987              -0.449846   \n",
       "3     ...              -0.571398               0.340935   \n",
       "4     ...              -0.251829               0.126705   \n",
       "...   ...                    ...                    ...   \n",
       "6380  ...              -0.511573               0.122567   \n",
       "6381  ...               0.107386              -0.083672   \n",
       "6382  ...               0.702536               0.304307   \n",
       "6383  ...              -0.640602               0.432366   \n",
       "6384  ...              -0.434081               0.055084   \n",
       "\n",
       "      cor_gyro_u_y_gyro_l_z  cor_gyro_u_z_gyro_l_x  cor_gyro_u_z_gyro_l_y  \\\n",
       "0                 -0.428072               0.057640               0.346174   \n",
       "1                 -0.471105              -0.218864               0.375842   \n",
       "2                  0.387218              -0.304047              -0.050325   \n",
       "3                 -0.458818               0.208974              -0.428573   \n",
       "4                  0.431274              -0.391765              -0.007812   \n",
       "...                     ...                    ...                    ...   \n",
       "6380               0.081251              -0.698863               0.211058   \n",
       "6381              -0.171989              -0.148011              -0.152530   \n",
       "6382              -0.240047              -0.653474              -0.499875   \n",
       "6383               0.136271              -0.460189               0.070236   \n",
       "6384               0.287960              -0.774483               0.321215   \n",
       "\n",
       "      cor_gyro_u_z_gyro_l_z  cor_gyro_l_x_gyro_l_y  cor_gyro_l_x_gyro_l_z  \\\n",
       "0                 -0.358900               0.556022              -0.389356   \n",
       "1                 -0.263502               0.151976              -0.250811   \n",
       "2                  0.114259               0.145795              -0.296867   \n",
       "3                  0.372661              -0.447074               0.584770   \n",
       "4                  0.189183               0.039516              -0.425444   \n",
       "...                     ...                    ...                    ...   \n",
       "6380               0.433719              -0.652424              -0.614666   \n",
       "6381               0.159097               0.464216               0.003840   \n",
       "6382               0.539899               0.433343              -0.567675   \n",
       "6383               0.259650              -0.722429              -0.586016   \n",
       "6384               0.718639              -0.682709              -0.804659   \n",
       "\n",
       "      cor_gyro_l_y_gyro_l_z  Subject  \n",
       "0                 -0.676975        0  \n",
       "1                 -0.705148        0  \n",
       "2                 -0.862323        0  \n",
       "3                 -0.750477        0  \n",
       "4                 -0.077235        0  \n",
       "...                     ...      ...  \n",
       "6380               0.308575       11  \n",
       "6381              -0.041292       11  \n",
       "6382              -0.083128       11  \n",
       "6383               0.375518       11  \n",
       "6384               0.555954       11  \n",
       "\n",
       "[6385 rows x 284 columns]"
      ]
     },
     "execution_count": 7,
     "metadata": {},
     "output_type": "execute_result"
    }
   ],
   "source": [
    "X_train"
   ]
  },
  {
   "cell_type": "markdown",
   "metadata": {},
   "source": [
    "Check number of subjects in data and make that many folds. In each iteration, we train on 13 subjects and test on 1 subject."
   ]
  },
  {
   "cell_type": "code",
   "execution_count": 8,
   "metadata": {
    "scrolled": true
   },
   "outputs": [
    {
     "data": {
      "text/plain": [
       "14    440\n",
       "10    440\n",
       "9     440\n",
       "5     440\n",
       "1     440\n",
       "12    440\n",
       "0     440\n",
       "7     439\n",
       "4     439\n",
       "3     438\n",
       "2     438\n",
       "13    436\n",
       "8     432\n",
       "6     428\n",
       "11    255\n",
       "Name: Subject, dtype: int64"
      ]
     },
     "execution_count": 8,
     "metadata": {},
     "output_type": "execute_result"
    }
   ],
   "source": [
    "X_train['Subject'].value_counts()"
   ]
  },
  {
   "cell_type": "code",
   "execution_count": 9,
   "metadata": {},
   "outputs": [],
   "source": [
    "#Make custom cv iterator (not generator as we use it multiple times in GridSearch)\n",
    "\n",
    "def custom_cv_subjectwise(X_train, n_splits):\n",
    "    indices_list = []\n",
    "    for i in range(n_splits):\n",
    "        train_indices = X_train[X_train['Subject']!=i].index.values.astype(int)\n",
    "        test_indices = X_train[X_train['Subject']==i].index.values.astype(int)\n",
    "        indices_list.append((train_indices, test_indices))\n",
    "    \n",
    "    return indices_list\n",
    "\n",
    "custom_cv = custom_cv_subjectwise(X_train, 15)"
   ]
  },
  {
   "cell_type": "code",
   "execution_count": 10,
   "metadata": {},
   "outputs": [
    {
     "data": {
      "text/plain": [
       "15"
      ]
     },
     "execution_count": 10,
     "metadata": {},
     "output_type": "execute_result"
    }
   ],
   "source": [
    "len(custom_cv)"
   ]
  },
  {
   "cell_type": "markdown",
   "metadata": {},
   "source": [
    "Custom_cv is an array of k(14) elements. Each element is a tuple of two tuples containing array indices of train and test data for the iteration -> (([train data indices(k-1 Subjects)]),([test data indices(1 Subject)]))"
   ]
  },
  {
   "cell_type": "code",
   "execution_count": 11,
   "metadata": {},
   "outputs": [
    {
     "data": {
      "text/plain": [
       "(6385, 283)"
      ]
     },
     "execution_count": 11,
     "metadata": {},
     "output_type": "execute_result"
    }
   ],
   "source": [
    "#drop the Subject from X_train as it is no longer required and will mess with the results\n",
    "X_train = X_train.drop(['Subject'],axis=1)\n",
    "X_train.shape"
   ]
  },
  {
   "cell_type": "markdown",
   "metadata": {},
   "source": [
    "## Observing CV results"
   ]
  },
  {
   "cell_type": "code",
   "execution_count": 60,
   "metadata": {},
   "outputs": [],
   "source": [
    "# Create the model with 100 trees\n",
    "clf = RandomForestClassifier(n_estimators = 100, random_state = 4, n_jobs = -1)\n",
    "scores = cross_val_score(clf, X_train, y_train, cv=custom_cv)"
   ]
  },
  {
   "cell_type": "code",
   "execution_count": 61,
   "metadata": {
    "scrolled": true
   },
   "outputs": [
    {
     "name": "stdout",
     "output_type": "stream",
     "text": [
      "Accuracy: 0.8067 (+/- 0.30)\n"
     ]
    }
   ],
   "source": [
    "print(\"Accuracy: %0.4f (+/- %0.2f)\" % (scores.mean(), scores.std() * 2))"
   ]
  },
  {
   "cell_type": "markdown",
   "metadata": {},
   "source": [
    "## Feature importance"
   ]
  },
  {
   "cell_type": "code",
   "execution_count": 14,
   "metadata": {},
   "outputs": [],
   "source": [
    "feature_list = X_train.columns.values.tolist()"
   ]
  },
  {
   "cell_type": "code",
   "execution_count": 15,
   "metadata": {},
   "outputs": [],
   "source": [
    "model = clf.fit(X_train, y_train)"
   ]
  },
  {
   "cell_type": "code",
   "execution_count": 16,
   "metadata": {},
   "outputs": [],
   "source": [
    "# Get numerical feature importances\n",
    "importances = model.feature_importances_\n",
    "\n",
    "# List of tuples with variable and importance\n",
    "feature_importances = [(feature, importance) for feature, importance in zip(feature_list, importances)]\n",
    "\n",
    "# Sort the feature importances by most important first\n",
    "feature_importances = sorted(feature_importances, key = lambda x: x[1], reverse = True)"
   ]
  },
  {
   "cell_type": "code",
   "execution_count": 105,
   "metadata": {},
   "outputs": [
    {
     "data": {
      "image/png": "[encoded data removed]",
      "text/plain": [
       "<Figure size 720x360 with 1 Axes>"
      ]
     },
     "metadata": {},
     "output_type": "display_data"
    }
   ],
   "source": [
    "\n",
    "# Reset style \n",
    "plt.style.use('fivethirtyeight')\n",
    "plt.rcParams['figure.figsize'] = (10,5)\n",
    "# list of x locations for plotting\n",
    "x_values = [x for x in range(len(importances))]\n",
    "\n",
    "# Make a bar chart\n",
    "plt.bar(x_values, importances, orientation = 'vertical', color = 'r', edgecolor = 'k', linewidth = 0.5)\n",
    "\n",
    "# Tick labels for x axis\n",
    "#plt.xticks(x_values, feature_list, rotation='vertical')\n",
    "\n",
    "# Axis labels and title\n",
    "plt.ylabel('Importance'); plt.xlabel('Variable'); plt.title('Variable Importances');\n"
   ]
  },
  {
   "cell_type": "markdown",
   "metadata": {},
   "source": [
    "Clearly, there are some features with higher importance and some with almost negligible. We will remove these from our dataset as they are damaging."
   ]
  },
  {
   "cell_type": "code",
   "execution_count": 18,
   "metadata": {},
   "outputs": [
    {
     "name": "stdout",
     "output_type": "stream",
     "text": [
      "Number of features for 85% importance: 173\n"
     ]
    }
   ],
   "source": [
    "# List of features sorted from most to least important\n",
    "sorted_importances = [importance[1] for importance in feature_importances]\n",
    "sorted_features = [importance[0] for importance in feature_importances]\n",
    "\n",
    "# Cumulative importances\n",
    "cumulative_importances = np.cumsum(sorted_importances)\n",
    "\n",
    "\n",
    "# Find number of features for cumulative importance of 85%\n",
    "# Add 1 because Python is zero-indexed\n",
    "print('Number of features for 85% importance:', np.where(cumulative_importances > 0.85)[0][0] + 1)"
   ]
  },
  {
   "cell_type": "code",
   "execution_count": 42,
   "metadata": {},
   "outputs": [
    {
     "name": "stdout",
     "output_type": "stream",
     "text": [
      "Important train features shape: (6385, 160)\n"
     ]
    }
   ],
   "source": [
    "# Extract the names of the most important features\n",
    "important_feature_names = [feature[0] for feature in feature_importances[0:160]]\n",
    "# Find the columns of the most important features\n",
    "important_indices = [feature_list.index(feature) for feature in important_feature_names]\n",
    "\n",
    "# Create training and testing sets with only the important features\n",
    "X_train_selected = X_train.iloc[:,important_indices]\n",
    "#X_test_selected = X_test.iloc[:,important_indices]\n",
    "\n",
    "# Sanity check on operations\n",
    "print('Important train features shape:', X_train_selected.shape)"
   ]
  },
  {
   "cell_type": "markdown",
   "metadata": {},
   "source": [
    "Run the model again and check:"
   ]
  },
  {
   "cell_type": "code",
   "execution_count": 62,
   "metadata": {
    "scrolled": true
   },
   "outputs": [
    {
     "name": "stdout",
     "output_type": "stream",
     "text": [
      "Accuracy: 0.8149 (+/- 0.28)\n"
     ]
    }
   ],
   "source": [
    "scores = cross_val_score(clf, X_train_selected, y_train, cv=custom_cv)\n",
    "print(\"Accuracy: %0.4f (+/- %0.2f)\" % (scores.mean(), scores.std() * 2))"
   ]
  },
  {
   "cell_type": "markdown",
   "metadata": {},
   "source": [
    "Accuracy increased by 1.5% by reducing more than 120 features as input."
   ]
  },
  {
   "cell_type": "markdown",
   "metadata": {},
   "source": [
    "## Doing Grid Search for tuning hyperparameters:"
   ]
  },
  {
   "cell_type": "markdown",
   "metadata": {},
   "source": [
    "## Grid Search 1: [number of decision trees]"
   ]
  },
  {
   "cell_type": "code",
   "execution_count": 55,
   "metadata": {},
   "outputs": [],
   "source": [
    "gs = GridSearchCV(RandomForestClassifier(random_state=4,n_jobs=-1), {\n",
    "    'n_estimators':[100,200,500,1000]\n",
    "    }, cv = custom_cv, verbose = 2, n_jobs=-1)"
   ]
  },
  {
   "cell_type": "code",
   "execution_count": 56,
   "metadata": {
    "scrolled": false
   },
   "outputs": [
    {
     "name": "stdout",
     "output_type": "stream",
     "text": [
      "Fitting 15 folds for each of 4 candidates, totalling 60 fits\n"
     ]
    },
    {
     "name": "stderr",
     "output_type": "stream",
     "text": [
      "[Parallel(n_jobs=-1)]: Using backend LokyBackend with 8 concurrent workers.\n",
      "[Parallel(n_jobs=-1)]: Done  25 tasks      | elapsed:   44.4s\n",
      "[Parallel(n_jobs=-1)]: Done  60 out of  60 | elapsed:  4.9min finished\n"
     ]
    },
    {
     "data": {
      "text/plain": [
       "GridSearchCV(cv=[(array([ 440,  441,  442, ..., 6382, 6383, 6384]),\n",
       "                  array([  0,   1,   2,   3,   4,   5,   6,   7,   8,   9,  10,  11,  12,\n",
       "        13,  14,  15,  16,  17,  18,  19,  20,  21,  22,  23,  24,  25,\n",
       "        26,  27,  28,  29,  30,  31,  32,  33,  34,  35,  36,  37,  38,\n",
       "        39,  40,  41,  42,  43,  44,  45,  46,  47,  48,  49,  50,  51,\n",
       "        52,  53,  54,  55,  56,  57,  58,  59,  60,  61,  62,  63,  64,\n",
       "        65,  66,  67,  68,  69,  70,  71,  72,  73,  74,  75,  76,  77,\n",
       "        78,  79,  80,  81,  82,  83,  84,  85,  86,  87,  88,  89,  90,\n",
       "        91,  92,  93,  94,  95,  96,  97,  9...\n",
       "                                              min_impurity_decrease=0.0,\n",
       "                                              min_impurity_split=None,\n",
       "                                              min_samples_leaf=1,\n",
       "                                              min_samples_split=2,\n",
       "                                              min_weight_fraction_leaf=0.0,\n",
       "                                              n_estimators=100, n_jobs=-1,\n",
       "                                              oob_score=False, random_state=4,\n",
       "                                              verbose=0, warm_start=False),\n",
       "             iid='deprecated', n_jobs=-1,\n",
       "             param_grid={'n_estimators': [100, 200, 500, 1000]},\n",
       "             pre_dispatch='2*n_jobs', refit=True, return_train_score=False,\n",
       "             scoring=None, verbose=2)"
      ]
     },
     "execution_count": 56,
     "metadata": {},
     "output_type": "execute_result"
    }
   ],
   "source": [
    "gs.fit(X_train_selected, y_train)"
   ]
  },
  {
   "cell_type": "code",
   "execution_count": 93,
   "metadata": {},
   "outputs": [
    {
     "data": {
      "text/html": [
       "<div>\n",
       "<style scoped>\n",
       "    .dataframe tbody tr th:only-of-type {\n",
       "        vertical-align: middle;\n",
       "    }\n",
       "\n",
       "    .dataframe tbody tr th {\n",
       "        vertical-align: top;\n",
       "    }\n",
       "\n",
       "    .dataframe thead th {\n",
       "        text-align: right;\n",
       "    }\n",
       "</style>\n",
       "<table border=\"1\" class=\"dataframe\">\n",
       "  <thead>\n",
       "    <tr style=\"text-align: right;\">\n",
       "      <th></th>\n",
       "      <th>params</th>\n",
       "      <th>mean_test_score</th>\n",
       "      <th>std_test_score</th>\n",
       "      <th>rank_test_score</th>\n",
       "    </tr>\n",
       "  </thead>\n",
       "  <tbody>\n",
       "    <tr>\n",
       "      <th>0</th>\n",
       "      <td>{'n_estimators': 100}</td>\n",
       "      <td>0.814882</td>\n",
       "      <td>0.140142</td>\n",
       "      <td>4</td>\n",
       "    </tr>\n",
       "    <tr>\n",
       "      <th>1</th>\n",
       "      <td>{'n_estimators': 200}</td>\n",
       "      <td>0.817794</td>\n",
       "      <td>0.140692</td>\n",
       "      <td>3</td>\n",
       "    </tr>\n",
       "    <tr>\n",
       "      <th>2</th>\n",
       "      <td>{'n_estimators': 500}</td>\n",
       "      <td>0.821728</td>\n",
       "      <td>0.148326</td>\n",
       "      <td>2</td>\n",
       "    </tr>\n",
       "    <tr>\n",
       "      <th>3</th>\n",
       "      <td>{'n_estimators': 1000}</td>\n",
       "      <td>0.826628</td>\n",
       "      <td>0.150083</td>\n",
       "      <td>1</td>\n",
       "    </tr>\n",
       "  </tbody>\n",
       "</table>\n",
       "</div>"
      ],
      "text/plain": [
       "                   params  mean_test_score  std_test_score  rank_test_score\n",
       "0   {'n_estimators': 100}         0.814882        0.140142                4\n",
       "1   {'n_estimators': 200}         0.817794        0.140692                3\n",
       "2   {'n_estimators': 500}         0.821728        0.148326                2\n",
       "3  {'n_estimators': 1000}         0.826628        0.150083                1"
      ]
     },
     "execution_count": 93,
     "metadata": {},
     "output_type": "execute_result"
    }
   ],
   "source": [
    "gs_results = pd.DataFrame(gs.cv_results_)\n",
    "gs_results.iloc[:,[5,21,22,23]]"
   ]
  },
  {
   "cell_type": "code",
   "execution_count": 58,
   "metadata": {
    "scrolled": false
   },
   "outputs": [
    {
     "data": {
      "text/plain": [
       "{'n_estimators': 1000}"
      ]
     },
     "execution_count": 58,
     "metadata": {},
     "output_type": "execute_result"
    }
   ],
   "source": [
    "gs.best_params_"
   ]
  },
  {
   "cell_type": "code",
   "execution_count": 59,
   "metadata": {},
   "outputs": [
    {
     "data": {
      "text/plain": [
       "0.8266279323294504"
      ]
     },
     "execution_count": 59,
     "metadata": {},
     "output_type": "execute_result"
    }
   ],
   "source": [
    "gs.best_score_"
   ]
  },
  {
   "cell_type": "markdown",
   "metadata": {},
   "source": [
    "1000 trees gives the best result!"
   ]
  },
  {
   "cell_type": "markdown",
   "metadata": {},
   "source": [
    "## Grid Search 2: [max depth]"
   ]
  },
  {
   "cell_type": "code",
   "execution_count": 63,
   "metadata": {},
   "outputs": [],
   "source": [
    "gs1 = GridSearchCV(RandomForestClassifier(n_estimators = 1000, random_state=4,n_jobs=-1), {\n",
    "    'max_depth':[10, 20, 40, 100, None]\n",
    "    }, cv = custom_cv, verbose = 2, n_jobs=-1)"
   ]
  },
  {
   "cell_type": "code",
   "execution_count": 64,
   "metadata": {
    "scrolled": false
   },
   "outputs": [
    {
     "name": "stdout",
     "output_type": "stream",
     "text": [
      "Fitting 15 folds for each of 5 candidates, totalling 75 fits\n"
     ]
    },
    {
     "name": "stderr",
     "output_type": "stream",
     "text": [
      "[Parallel(n_jobs=-1)]: Using backend LokyBackend with 8 concurrent workers.\n",
      "[Parallel(n_jobs=-1)]: Done  25 tasks      | elapsed:  5.4min\n",
      "[Parallel(n_jobs=-1)]: Done  75 out of  75 | elapsed: 13.7min finished\n"
     ]
    },
    {
     "data": {
      "text/plain": [
       "GridSearchCV(cv=[(array([ 440,  441,  442, ..., 6382, 6383, 6384]),\n",
       "                  array([  0,   1,   2,   3,   4,   5,   6,   7,   8,   9,  10,  11,  12,\n",
       "        13,  14,  15,  16,  17,  18,  19,  20,  21,  22,  23,  24,  25,\n",
       "        26,  27,  28,  29,  30,  31,  32,  33,  34,  35,  36,  37,  38,\n",
       "        39,  40,  41,  42,  43,  44,  45,  46,  47,  48,  49,  50,  51,\n",
       "        52,  53,  54,  55,  56,  57,  58,  59,  60,  61,  62,  63,  64,\n",
       "        65,  66,  67,  68,  69,  70,  71,  72,  73,  74,  75,  76,  77,\n",
       "        78,  79,  80,  81,  82,  83,  84,  85,  86,  87,  88,  89,  90,\n",
       "        91,  92,  93,  94,  95,  96,  97,  9...\n",
       "                                              min_impurity_decrease=0.0,\n",
       "                                              min_impurity_split=None,\n",
       "                                              min_samples_leaf=1,\n",
       "                                              min_samples_split=2,\n",
       "                                              min_weight_fraction_leaf=0.0,\n",
       "                                              n_estimators=1000, n_jobs=-1,\n",
       "                                              oob_score=False, random_state=4,\n",
       "                                              verbose=0, warm_start=False),\n",
       "             iid='deprecated', n_jobs=-1,\n",
       "             param_grid={'max_depth': [10, 20, 40, 100, None]},\n",
       "             pre_dispatch='2*n_jobs', refit=True, return_train_score=False,\n",
       "             scoring=None, verbose=2)"
      ]
     },
     "execution_count": 64,
     "metadata": {},
     "output_type": "execute_result"
    }
   ],
   "source": [
    "gs1.fit(X_train_selected, y_train)"
   ]
  },
  {
   "cell_type": "code",
   "execution_count": 95,
   "metadata": {},
   "outputs": [
    {
     "data": {
      "text/html": [
       "<div>\n",
       "<style scoped>\n",
       "    .dataframe tbody tr th:only-of-type {\n",
       "        vertical-align: middle;\n",
       "    }\n",
       "\n",
       "    .dataframe tbody tr th {\n",
       "        vertical-align: top;\n",
       "    }\n",
       "\n",
       "    .dataframe thead th {\n",
       "        text-align: right;\n",
       "    }\n",
       "</style>\n",
       "<table border=\"1\" class=\"dataframe\">\n",
       "  <thead>\n",
       "    <tr style=\"text-align: right;\">\n",
       "      <th></th>\n",
       "      <th>params</th>\n",
       "      <th>mean_test_score</th>\n",
       "      <th>std_test_score</th>\n",
       "      <th>rank_test_score</th>\n",
       "    </tr>\n",
       "  </thead>\n",
       "  <tbody>\n",
       "    <tr>\n",
       "      <th>0</th>\n",
       "      <td>{'max_depth': 10}</td>\n",
       "      <td>0.813316</td>\n",
       "      <td>0.147946</td>\n",
       "      <td>5</td>\n",
       "    </tr>\n",
       "    <tr>\n",
       "      <th>1</th>\n",
       "      <td>{'max_depth': 20}</td>\n",
       "      <td>0.825703</td>\n",
       "      <td>0.148177</td>\n",
       "      <td>4</td>\n",
       "    </tr>\n",
       "    <tr>\n",
       "      <th>2</th>\n",
       "      <td>{'max_depth': 40}</td>\n",
       "      <td>0.826628</td>\n",
       "      <td>0.150083</td>\n",
       "      <td>1</td>\n",
       "    </tr>\n",
       "    <tr>\n",
       "      <th>3</th>\n",
       "      <td>{'max_depth': 100}</td>\n",
       "      <td>0.826628</td>\n",
       "      <td>0.150083</td>\n",
       "      <td>1</td>\n",
       "    </tr>\n",
       "    <tr>\n",
       "      <th>4</th>\n",
       "      <td>{'max_depth': None}</td>\n",
       "      <td>0.826628</td>\n",
       "      <td>0.150083</td>\n",
       "      <td>1</td>\n",
       "    </tr>\n",
       "  </tbody>\n",
       "</table>\n",
       "</div>"
      ],
      "text/plain": [
       "                params  mean_test_score  std_test_score  rank_test_score\n",
       "0    {'max_depth': 10}         0.813316        0.147946                5\n",
       "1    {'max_depth': 20}         0.825703        0.148177                4\n",
       "2    {'max_depth': 40}         0.826628        0.150083                1\n",
       "3   {'max_depth': 100}         0.826628        0.150083                1\n",
       "4  {'max_depth': None}         0.826628        0.150083                1"
      ]
     },
     "execution_count": 95,
     "metadata": {},
     "output_type": "execute_result"
    }
   ],
   "source": [
    "gs1_results = pd.DataFrame(gs1.cv_results_)\n",
    "gs1_results.iloc[:,[5,21,22,23]]"
   ]
  },
  {
   "cell_type": "markdown",
   "metadata": {},
   "source": [
    "Keep 160 selected features in test input df"
   ]
  },
  {
   "cell_type": "code",
   "execution_count": 66,
   "metadata": {},
   "outputs": [
    {
     "data": {
      "text/plain": [
       "(1738, 160)"
      ]
     },
     "execution_count": 66,
     "metadata": {},
     "output_type": "execute_result"
    }
   ],
   "source": [
    "X_test_selected = X_test.iloc[:,important_indices]\n",
    "X_test_selected.shape"
   ]
  },
  {
   "cell_type": "markdown",
   "metadata": {},
   "source": [
    "# Final Result on test data"
   ]
  },
  {
   "cell_type": "code",
   "execution_count": 91,
   "metadata": {
    "scrolled": true
   },
   "outputs": [
    {
     "name": "stdout",
     "output_type": "stream",
     "text": [
      "OOB Score =  0.9880971025841817\n",
      "Test Accuracy =  0.9275028768699655\n",
      "f1 score =  0.9265796145148634\n"
     ]
    }
   ],
   "source": [
    "#Checking final result(using test data)\n",
    "model = rf_cls(X_train_selected, y_train, X_test_selected, y_test)"
   ]
  },
  {
   "cell_type": "markdown",
   "metadata": {},
   "source": [
    "## Printing Confusion Matrix:"
   ]
  },
  {
   "cell_type": "code",
   "execution_count": 89,
   "metadata": {},
   "outputs": [
    {
     "data": {
      "image/png": "[encoded data removed]",
      "text/plain": [
       "<Figure size 1080x1080 with 2 Axes>"
      ]
     },
     "metadata": {
      "needs_background": "light"
     },
     "output_type": "display_data"
    }
   ],
   "source": [
    "descriptive_labels = ['curve-left-spin-Lfirst', 'curve-left-spin-Rfirst', 'curve-left-step', 'curve-right-spin-Lfirst',\n",
    "       'curve-right-spin-Rfirst', 'curve-right-step', 'jump-one-leg', 'jump-two-leg', 'lateral-shuffle-left', 'lateral-shuffle-right',\n",
    "       'run', 'sit', 'sit-to-stand', 'stair-down', 'stair-up', 'stand','stand-to-sit', 'v-cut-left-Lfirst', 'v-cut-left-Rfirst',\n",
    "       'v-cut-right-Lfirst', 'v-cut-right-Rfirst', 'walk']\n",
    "\n",
    "plt.rcParams['figure.figsize'] = (15,15)\n",
    "\n",
    "plot_confusion_matrix(model, X_test_selected, y_test,\n",
    "                                 display_labels=descriptive_labels,\n",
    "                                 cmap=plt.cm.Blues,\n",
    "                                 normalize='true')\n",
    "plt.xticks(rotation=30, ha='right')\n",
    "plt.show()"
   ]
  },
  {
   "cell_type": "markdown",
   "metadata": {},
   "source": [
    "# Checking other models"
   ]
  },
  {
   "cell_type": "markdown",
   "metadata": {},
   "source": [
    "## SVC"
   ]
  },
  {
   "cell_type": "code",
   "execution_count": 99,
   "metadata": {},
   "outputs": [
    {
     "name": "stdout",
     "output_type": "stream",
     "text": [
      "Accuracy: 0.50 (+/- 0.28)\n"
     ]
    }
   ],
   "source": [
    "from sklearn.svm import SVC\n",
    "\n",
    "svc = SVC()\n",
    "svc_scores = cross_val_score(svc, X_train.drop(['Subject'], axis=1), y_train, cv=custom_cv)\n",
    "\n",
    "print(\"Accuracy: %0.2f (+/- %0.2f)\" % (svc_scores.mean(), svc_scores.std() * 2))"
   ]
  },
  {
   "cell_type": "markdown",
   "metadata": {},
   "source": [
    "## KNN with feature selection"
   ]
  },
  {
   "cell_type": "code",
   "execution_count": 102,
   "metadata": {},
   "outputs": [
    {
     "data": {
      "text/plain": [
       "(6130, 16)"
      ]
     },
     "execution_count": 102,
     "metadata": {},
     "output_type": "execute_result"
    }
   ],
   "source": [
    "from sklearn.feature_selection import SelectKBest\n",
    "from sklearn.feature_selection import f_classif\n",
    "from sklearn.neighbors import KNeighborsClassifier\n",
    "\n",
    "X_knn = SelectKBest(f_classif, k=16).fit_trakmnsform(X_train.drop(['Subject'],axis=1), y_train)\n",
    "X_knn.shape"
   ]
  },
  {
   "cell_type": "code",
   "execution_count": 106,
   "metadata": {},
   "outputs": [
    {
     "name": "stdout",
     "output_type": "stream",
     "text": [
      "Accuracy: 0.47 (+/- 0.11)\n"
     ]
    }
   ],
   "source": [
    "neigh = KNeighborsClassifier(n_neighbors=10)\n",
    "knn_scores = cross_val_score(neigh, X_knn, y_train, cv=custom_cv)\n",
    "\n",
    "print(\"Accuracy: %0.2f (+/- %0.2f)\" % (knn_scores.mean(), knn_scores.std() * 2))"
   ]
  }
 ],
 "metadata": {
  "kernelspec": {
   "display_name": "Python 3",
   "language": "python",
   "name": "python3"
  },
  "language_info": {
   "codemirror_mode": {
    "name": "ipython",
    "version": 3
   },
   "file_extension": ".py",
   "mimetype": "text/x-python",
   "name": "python",
   "nbconvert_exporter": "python",
   "pygments_lexer": "ipython3",
   "version": "3.6.10"
  }
 },
 "nbformat": 4,
 "nbformat_minor": 4
}
